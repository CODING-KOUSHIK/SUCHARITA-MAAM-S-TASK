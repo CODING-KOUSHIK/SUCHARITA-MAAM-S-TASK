{
 "cells": [
  {
   "cell_type": "markdown",
   "id": "9249e8d5",
   "metadata": {},
   "source": [
    "Problems on binomial distribution:\n",
    "1.\tA coin is tossed four times. Calculate the probability of obtaining more heads than tails.\n",
    "2. An agent sells life insurance policies to five equally aged, healthy people. According to recent data, the probability of a person living in these conditions for 30 years or more is 2/3. Calculate the probability that after 30 years:\n",
    "1. All five people are still living.\n",
    "2. At least three people are still living.\n",
    "3. Exactly two people are still living.\n",
    "3. If from six to seven in the evening one telephone line in every five is engaged in a conversation: what is the probability that when 10 telephone numbers are chosen at random, only two are in use?\n",
    "4. The probability of a man hitting the target at a shooting range is 1/4. If he shoots 10 times, what is the probability that he hits the target exactly three times? What is the probability that he hits the target at least once?\n",
    "5. There are 10 red and 20 blue balls in a box. A ball is chosen at random and it is noted whether it is red. The process repeats, returning the ball 10 times. Calculate the expected value and the standard deviation of this game.\n",
    "6. It has been determined that 5% of drivers checked at a road stop show traces of alcohol and 10% of drivers checked do not wear seat belts. In addition, it has been observed that the two infractions are independent from one another. If an officer stops five drivers at random:\n",
    "1. Calculate the probability that exactly three of the drivers have committed any one of the two offenses.\n",
    "2. Calculate the probability that at least one of the drivers checked has committed at least one of the two offenses.\n",
    "7. A pharmaceutical lab states that a drug causes negative side effects in 3 of every 100 patients. To confirm this affirmation, another laboratory chooses 5 people at random who have consumed the drug. What is the probability of the following events?\n",
    "1. None of the five patients experience side effects.\n",
    "2.At least two experience side effects.\n",
    "3.What is the average number of patients that the laboratory should expect to experience side effects if they choose 100 patients at random?\n",
    " Poisson distributions:\n",
    "1.\tThe average occurrence of an event in a given time interval is 10. What would be the probability of that event occurring 15 times?\n",
    "2.\tA watch manufacturing company wants to reduce the number of defective pieces. It took an average of 100 lots and found that 7 watches from each lot were defective. What would be the probability of 10 watches being defective in a single lot?\n"
   ]
  },
  {
   "cell_type": "code",
   "execution_count": null,
   "id": "b3a2cc59",
   "metadata": {},
   "outputs": [],
   "source": []
  },
  {
   "cell_type": "markdown",
   "id": "1670f929",
   "metadata": {},
   "source": [
    "# Problems on binomial distribution:"
   ]
  },
  {
   "cell_type": "markdown",
   "id": "c6e617fe",
   "metadata": {},
   "source": [
    "### 1.\tA coin is tossed four times. Calculate the probability of obtaining more heads than tails."
   ]
  },
  {
   "cell_type": "code",
   "execution_count": 2,
   "id": "6ae40bd3",
   "metadata": {},
   "outputs": [],
   "source": [
    "def fact(x):\n",
    "    f=1\n",
    "    for i in range(1,x+1):\n",
    "        f=f*i\n",
    "    return f\n",
    "\n",
    "def binomial_formula(n,p,r):\n",
    "    return (fact(n)/((fact(r)*fact(n-r))))*(p**r)*((1-p)**(n-r))"
   ]
  },
  {
   "cell_type": "code",
   "execution_count": 5,
   "id": "64fe8063",
   "metadata": {},
   "outputs": [
    {
     "name": "stdout",
     "output_type": "stream",
     "text": [
      "0.5234375\n"
     ]
    }
   ],
   "source": [
    "y=binomial_formula(4,1/2,3) + binomial_formula(8,1/2,4)\n",
    "print(y)"
   ]
  },
  {
   "cell_type": "code",
   "execution_count": null,
   "id": "68ec8075",
   "metadata": {},
   "outputs": [],
   "source": []
  },
  {
   "cell_type": "markdown",
   "id": "019a4c6f",
   "metadata": {},
   "source": [
    "### An agent sells life insurance policies to five equally aged, healthy people. According to recent data, the probability of a person living in these conditions for 30 years or more is 2/3. Calculate the probability that after 30 years:"
   ]
  },
  {
   "cell_type": "markdown",
   "id": "4f5a89db",
   "metadata": {},
   "source": [
    "#### 1. All five people are still living."
   ]
  },
  {
   "cell_type": "code",
   "execution_count": 6,
   "id": "7d68cd72",
   "metadata": {},
   "outputs": [
    {
     "name": "stdout",
     "output_type": "stream",
     "text": [
      "The Required Probability is:  0.13168724279835387\n"
     ]
    }
   ],
   "source": [
    "y=binomial_formula(5,2/3,5)\n",
    "print(\"The Required Probability is: \", y)"
   ]
  },
  {
   "cell_type": "markdown",
   "id": "ef8655d2",
   "metadata": {},
   "source": [
    "#### 2. At least three people are still living."
   ]
  },
  {
   "cell_type": "code",
   "execution_count": 7,
   "id": "45f447e3",
   "metadata": {},
   "outputs": [
    {
     "name": "stdout",
     "output_type": "stream",
     "text": [
      "The Required Probability is:  0.7901234567901234\n"
     ]
    }
   ],
   "source": [
    "y=0\n",
    "for i in range(3,6):\n",
    "    z=binomial_formula(5,2/3,i)\n",
    "    y=y+z\n",
    "print(\"The Required Probability is: \", y)"
   ]
  },
  {
   "cell_type": "markdown",
   "id": "eeb382ce",
   "metadata": {},
   "source": [
    "#### 3. Exactly two people are still living."
   ]
  },
  {
   "cell_type": "code",
   "execution_count": 10,
   "id": "bbf16cd7",
   "metadata": {},
   "outputs": [
    {
     "name": "stdout",
     "output_type": "stream",
     "text": [
      "The Required Probability is:  0.16460905349794244\n"
     ]
    }
   ],
   "source": [
    "y=0\n",
    "for i in range(2,3):\n",
    "    z=binomial_formula(5,2/3,i)\n",
    "    y=y+z\n",
    "print(\"The Required Probability is: \", y)"
   ]
  },
  {
   "cell_type": "code",
   "execution_count": null,
   "id": "12c4a0e2",
   "metadata": {},
   "outputs": [],
   "source": []
  },
  {
   "cell_type": "markdown",
   "id": "304e77ec",
   "metadata": {},
   "source": [
    "## 3. If from six to seven in the evening one telephone line in every five is engaged in a conversation: what is the probability that when 10 telephone numbers are chosen at random, only two are in use?"
   ]
  },
  {
   "cell_type": "code",
   "execution_count": 11,
   "id": "8e79ed38",
   "metadata": {},
   "outputs": [
    {
     "name": "stdout",
     "output_type": "stream",
     "text": [
      "The Required Probability is:  7.372799999999987e-05\n"
     ]
    }
   ],
   "source": [
    "y=0\n",
    "for i in range(2,3):\n",
    "    z=binomial_formula(10,4/5,i)\n",
    "    y=y+z\n",
    "print(\"The Required Probability is: \", y)"
   ]
  },
  {
   "cell_type": "code",
   "execution_count": null,
   "id": "da4ace01",
   "metadata": {},
   "outputs": [],
   "source": []
  },
  {
   "cell_type": "markdown",
   "id": "38933b67",
   "metadata": {},
   "source": [
    "### 4. The probability of a man hitting the target at a shooting range is 1/4. If he shoots 10 times, what is the probability that he hits the target exactly three times? What is the probability that he hits the target at least once?"
   ]
  },
  {
   "cell_type": "code",
   "execution_count": null,
   "id": "103b541e",
   "metadata": {},
   "outputs": [],
   "source": [
    "# what is the probability that he hits the target exactly three times?"
   ]
  },
  {
   "cell_type": "code",
   "execution_count": 13,
   "id": "3b7af3fd",
   "metadata": {},
   "outputs": [
    {
     "name": "stdout",
     "output_type": "stream",
     "text": [
      "The Required Probability is:  0.25028228759765625\n"
     ]
    }
   ],
   "source": [
    "y=0\n",
    "for i in range(3,4):\n",
    "    z=binomial_formula(10,1/4,i)\n",
    "    y=y+z\n",
    "print(\"The Required Probability is: \", y)"
   ]
  },
  {
   "cell_type": "code",
   "execution_count": null,
   "id": "7ac6d3bc",
   "metadata": {},
   "outputs": [],
   "source": [
    "#What is the probability that he hits the target at least once?"
   ]
  },
  {
   "cell_type": "code",
   "execution_count": 14,
   "id": "ffa2b9e4",
   "metadata": {},
   "outputs": [
    {
     "name": "stdout",
     "output_type": "stream",
     "text": [
      "The Required Probability is:  0.9999998976000001\n"
     ]
    }
   ],
   "source": [
    "y=0\n",
    "for i in range(1,11):\n",
    "    z=binomial_formula(10,4/5,i)\n",
    "    y=y+z\n",
    "print(\"The Required Probability is: \", y)"
   ]
  },
  {
   "cell_type": "code",
   "execution_count": null,
   "id": "e0a603f4",
   "metadata": {},
   "outputs": [],
   "source": []
  },
  {
   "cell_type": "markdown",
   "id": "af6328e8",
   "metadata": {},
   "source": [
    "### 5. There are 10 red and 20 blue balls in a box. A ball is chosen at random and it is noted whether it is red. The process repeats, returning the ball 10 times. Calculate the expected value and the standard deviation of this game."
   ]
  },
  {
   "cell_type": "code",
   "execution_count": 17,
   "id": "3322c48a",
   "metadata": {},
   "outputs": [
    {
     "data": {
      "text/plain": [
       "3.333333333333333"
      ]
     },
     "execution_count": 17,
     "metadata": {},
     "output_type": "execute_result"
    }
   ],
   "source": [
    "expected_value=10*(10/30)\n",
    "expected_value"
   ]
  },
  {
   "cell_type": "code",
   "execution_count": 18,
   "id": "ff647f78",
   "metadata": {},
   "outputs": [
    {
     "data": {
      "text/plain": [
       "1.4907119849998596"
      ]
     },
     "execution_count": 18,
     "metadata": {},
     "output_type": "execute_result"
    }
   ],
   "source": [
    "import math\n",
    "standard_deviation=math.sqrt(10*(10/30)*(20/30))\n",
    "standard_deviation"
   ]
  },
  {
   "cell_type": "markdown",
   "id": "9febe906",
   "metadata": {},
   "source": [
    "### 6. It has been determined that 5% of drivers checked at a road stop show traces of alcohol and 10% of drivers checked do not wear seat belts. In addition, it has been observed that the two infractions are independent from one another. If an officer stops five drivers at random:"
   ]
  },
  {
   "cell_type": "markdown",
   "id": "e1415d17",
   "metadata": {},
   "source": [
    "#### 1. Calculate the probability that exactly three of the drivers have committed any one of the two offenses."
   ]
  },
  {
   "cell_type": "code",
   "execution_count": 22,
   "id": "7464ac2d",
   "metadata": {},
   "outputs": [
    {
     "name": "stdout",
     "output_type": "stream",
     "text": [
      "The Required Probability is:  0.022286210906250006\n"
     ]
    }
   ],
   "source": [
    "p_of_A_U_B=0.05+0.10-0.05*0.10\n",
    "z=binomial_formula(5,p_of_A_U_B,3)\n",
    "print(\"The Required Probability is: \", z)"
   ]
  },
  {
   "cell_type": "markdown",
   "id": "869331eb",
   "metadata": {},
   "source": [
    "#### 2. Calculate the probability that at least one of the drivers checked has committed at least one of the two offenses."
   ]
  },
  {
   "cell_type": "code",
   "execution_count": 23,
   "id": "d792ded4",
   "metadata": {},
   "outputs": [
    {
     "name": "stdout",
     "output_type": "stream",
     "text": [
      "The Required Probability is:  0.543090094215625\n"
     ]
    }
   ],
   "source": [
    "p_of_A_U_B=0.05+0.10-0.05*0.10\n",
    "z=binomial_formula(5,p_of_A_U_B,0)\n",
    "print(\"The Required Probability is: \", 1-z)"
   ]
  },
  {
   "cell_type": "markdown",
   "id": "f2b8c335",
   "metadata": {},
   "source": [
    "### 7. A pharmaceutical lab states that a drug causes negative side effects in 3 of every 100 patients. To confirm this affirmation, another laboratory chooses 5 people at random who have consumed the drug. What is the probability of the following events?"
   ]
  },
  {
   "cell_type": "markdown",
   "id": "01c13576",
   "metadata": {},
   "source": [
    "#### 1. None of the five patients experience side effects."
   ]
  },
  {
   "cell_type": "code",
   "execution_count": 24,
   "id": "8f823e3b",
   "metadata": {},
   "outputs": [
    {
     "name": "stdout",
     "output_type": "stream",
     "text": [
      "The Required Probability is:  0.8587340256999999\n"
     ]
    }
   ],
   "source": [
    "z=binomial_formula(5,3/100,0)\n",
    "print(\"The Required Probability is: \", z)"
   ]
  },
  {
   "cell_type": "markdown",
   "id": "cb2e18c3",
   "metadata": {},
   "source": [
    "#### 2.At least two experience side effects."
   ]
  },
  {
   "cell_type": "code",
   "execution_count": 25,
   "id": "354ccf75",
   "metadata": {},
   "outputs": [
    {
     "name": "stdout",
     "output_type": "stream",
     "text": [
      "The Required Probability is:  0.0084720528\n"
     ]
    }
   ],
   "source": [
    "y=0\n",
    "for i in range(2,6):\n",
    "    z=binomial_formula(5,3/100,i)\n",
    "    y=y+z\n",
    "print(\"The Required Probability is: \", y)"
   ]
  },
  {
   "cell_type": "markdown",
   "id": "ce8f7cb5",
   "metadata": {},
   "source": [
    "#### 3.What is the average number of patients that the laboratory should expect to experience side effects if they choose 100 patients at random?"
   ]
  },
  {
   "cell_type": "code",
   "execution_count": 26,
   "id": "aad52e93",
   "metadata": {},
   "outputs": [
    {
     "name": "stdout",
     "output_type": "stream",
     "text": [
      "3.0\n"
     ]
    }
   ],
   "source": [
    "mean= 100*3/100\n",
    "print(mean)"
   ]
  },
  {
   "cell_type": "markdown",
   "id": "a5a3453a",
   "metadata": {},
   "source": [
    "#  Poisson distributions:"
   ]
  },
  {
   "cell_type": "code",
   "execution_count": 27,
   "id": "31e5b66f",
   "metadata": {},
   "outputs": [],
   "source": [
    "def poison_distribution(mean,x):\n",
    "    return (((2.718281828459045)**(-mean))*((mean)**x))/fact(x)"
   ]
  },
  {
   "cell_type": "markdown",
   "id": "4be943df",
   "metadata": {},
   "source": [
    "### 1.\tThe average occurrence of an event in a given time interval is 10. What would be the probability of that event occurring 15 times?"
   ]
  },
  {
   "cell_type": "code",
   "execution_count": 28,
   "id": "71047ab7",
   "metadata": {},
   "outputs": [
    {
     "data": {
      "text/plain": [
       "0.034718069630684134"
      ]
     },
     "execution_count": 28,
     "metadata": {},
     "output_type": "execute_result"
    }
   ],
   "source": [
    "poison_distribution(10,15)"
   ]
  },
  {
   "cell_type": "markdown",
   "id": "295d3c10",
   "metadata": {},
   "source": [
    "### 2.\tA watch manufacturing company wants to reduce the number of defective pieces. It took an average of 100 lots and found that 7 watches from each lot were defective. What would be the probability of 10 watches being defective in a single lot?"
   ]
  },
  {
   "cell_type": "code",
   "execution_count": 30,
   "id": "c31f2d8a",
   "metadata": {},
   "outputs": [
    {
     "data": {
      "text/plain": [
       "3.865549419593777e-09"
      ]
     },
     "execution_count": 30,
     "metadata": {},
     "output_type": "execute_result"
    }
   ],
   "source": [
    "poison_distribution(70/100,10)"
   ]
  },
  {
   "cell_type": "code",
   "execution_count": null,
   "id": "d3bc9b4b",
   "metadata": {},
   "outputs": [],
   "source": []
  },
  {
   "cell_type": "code",
   "execution_count": null,
   "id": "9f4ef4f9",
   "metadata": {},
   "outputs": [],
   "source": []
  },
  {
   "cell_type": "code",
   "execution_count": null,
   "id": "2fce6d6f",
   "metadata": {},
   "outputs": [],
   "source": []
  },
  {
   "cell_type": "code",
   "execution_count": null,
   "id": "20ad18a7",
   "metadata": {},
   "outputs": [],
   "source": []
  },
  {
   "cell_type": "code",
   "execution_count": null,
   "id": "e1a26a52",
   "metadata": {},
   "outputs": [],
   "source": []
  }
 ],
 "metadata": {
  "kernelspec": {
   "display_name": "Python 3 (ipykernel)",
   "language": "python",
   "name": "python3"
  },
  "language_info": {
   "codemirror_mode": {
    "name": "ipython",
    "version": 3
   },
   "file_extension": ".py",
   "mimetype": "text/x-python",
   "name": "python",
   "nbconvert_exporter": "python",
   "pygments_lexer": "ipython3",
   "version": "3.11.4"
  }
 },
 "nbformat": 4,
 "nbformat_minor": 5
}
