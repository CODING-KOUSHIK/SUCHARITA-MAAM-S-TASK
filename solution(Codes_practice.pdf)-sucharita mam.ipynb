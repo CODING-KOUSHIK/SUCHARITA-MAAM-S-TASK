{
 "cells": [
  {
   "cell_type": "markdown",
   "id": "2a887008",
   "metadata": {},
   "source": [
    "# 1. Sum of List: \n",
    " Write a Python function to calculate the sum of all elements in a given list. "
   ]
  },
  {
   "cell_type": "code",
   "execution_count": 2,
   "id": "4653dd97",
   "metadata": {},
   "outputs": [
    {
     "data": {
      "text/plain": [
       "99"
      ]
     },
     "execution_count": 2,
     "metadata": {},
     "output_type": "execute_result"
    }
   ],
   "source": [
    "list=[10,12,23,45,4,5]\n",
    "sum(list)"
   ]
  },
  {
   "cell_type": "code",
   "execution_count": null,
   "id": "85cd5be8",
   "metadata": {},
   "outputs": [],
   "source": []
  },
  {
   "cell_type": "markdown",
   "id": "8927905d",
   "metadata": {},
   "source": [
    "# 2. List Manipulation: \n",
    " Create a function that takes a list and returns a new list with only the even elements. "
   ]
  },
  {
   "cell_type": "code",
   "execution_count": 5,
   "id": "bde6b3c6",
   "metadata": {},
   "outputs": [
    {
     "data": {
      "text/plain": [
       "[10, 12, 4]"
      ]
     },
     "execution_count": 5,
     "metadata": {},
     "output_type": "execute_result"
    }
   ],
   "source": [
    "list=[10,12,23,45,4,5]\n",
    "new_list=[]\n",
    "\n",
    "for i in list:\n",
    "    if i%2==0:\n",
    "        new_list.append(i)\n",
    "        \n",
    "new_list"
   ]
  },
  {
   "cell_type": "code",
   "execution_count": null,
   "id": "52ccd1da",
   "metadata": {},
   "outputs": [],
   "source": []
  },
  {
   "cell_type": "markdown",
   "id": "cb691c11",
   "metadata": {},
   "source": [
    "# 3. List Reversal: \n",
    " Write a program to reverse a list in-place (without using built-in functions). "
   ]
  },
  {
   "cell_type": "code",
   "execution_count": 10,
   "id": "bd962b32",
   "metadata": {},
   "outputs": [
    {
     "data": {
      "text/plain": [
       "[5, 4, 45, 23, 12, 10]"
      ]
     },
     "execution_count": 10,
     "metadata": {},
     "output_type": "execute_result"
    }
   ],
   "source": [
    "list=[10,12,23,45,4,5]\n",
    "new_list=[]\n",
    "\n",
    "for i in range(len(list)-1,-1,-1):\n",
    "    new_list.append(list[i])\n",
    "    \n",
    "new_list"
   ]
  },
  {
   "cell_type": "code",
   "execution_count": null,
   "id": "8d40fd65",
   "metadata": {},
   "outputs": [],
   "source": []
  },
  {
   "cell_type": "markdown",
   "id": "19533be5",
   "metadata": {},
   "source": [
    "# 4. List Comprehension: \n",
    " Use list comprehension to create a new list that contains squares of all elements in the given \n",
    "list. "
   ]
  },
  {
   "cell_type": "code",
   "execution_count": 2,
   "id": "59604ccf",
   "metadata": {},
   "outputs": [],
   "source": [
    "list=[10,12,23,45,4,5]\n",
    "new_list=[ value**2 for value in list]"
   ]
  },
  {
   "cell_type": "code",
   "execution_count": 3,
   "id": "f354ad94",
   "metadata": {},
   "outputs": [
    {
     "data": {
      "text/plain": [
       "[100, 144, 529, 2025, 16, 25]"
      ]
     },
     "execution_count": 3,
     "metadata": {},
     "output_type": "execute_result"
    }
   ],
   "source": [
    "new_list"
   ]
  },
  {
   "cell_type": "code",
   "execution_count": null,
   "id": "05f7ce9d",
   "metadata": {},
   "outputs": [],
   "source": []
  },
  {
   "cell_type": "markdown",
   "id": "261a2ad8",
   "metadata": {},
   "source": [
    "# 5.\tList Filtering:\n",
    "Implement a function to filter out elements from a list that are greater than a specified value.\n"
   ]
  },
  {
   "cell_type": "code",
   "execution_count": 4,
   "id": "a98dac63",
   "metadata": {},
   "outputs": [
    {
     "name": "stdout",
     "output_type": "stream",
     "text": [
      "pls enter a value45\n",
      "[78, 78, 96, 78, 74]\n"
     ]
    }
   ],
   "source": [
    "list=[45,78,12,45,78,96,3,25,78,12,74]\n",
    "x=int(input(\"pls enter a value\"))\n",
    "new_list=[]\n",
    "for i in list:\n",
    "    if i>x:\n",
    "        new_list.append(i)\n",
    "        \n",
    "print(new_list)"
   ]
  },
  {
   "cell_type": "markdown",
   "id": "4116a3be",
   "metadata": {},
   "source": [
    "# 6.\tList Intersection:\n",
    "Write a function that returns the common elements between two lists.\n"
   ]
  },
  {
   "cell_type": "code",
   "execution_count": 6,
   "id": "5c7fdc83",
   "metadata": {},
   "outputs": [
    {
     "data": {
      "text/plain": [
       "{12, 45, 78, 96}"
      ]
     },
     "execution_count": 6,
     "metadata": {},
     "output_type": "execute_result"
    }
   ],
   "source": [
    "list1=[45,78,12,45,78,96,3,25,78,12,74]\n",
    "list2=[10,12,23,45,4,5,96,78]\n",
    "common_list=[]\n",
    "for i in list1:\n",
    "    if i in list2:\n",
    "        common_list.append(i)\n",
    "        \n",
    "set1=set(common_list)\n",
    "set1\n"
   ]
  },
  {
   "cell_type": "code",
   "execution_count": null,
   "id": "dfeb28e2",
   "metadata": {},
   "outputs": [],
   "source": []
  },
  {
   "cell_type": "markdown",
   "id": "1cfa76aa",
   "metadata": {},
   "source": [
    "# 7.\tPalindrome Check:\n",
    "Implement a function to check if a given list is a palindrome.\n"
   ]
  },
  {
   "cell_type": "code",
   "execution_count": 10,
   "id": "c856fb26",
   "metadata": {},
   "outputs": [],
   "source": [
    "def palindrome_check(x):\n",
    "    if x[::]==x[::-1]:\n",
    "        print(\"Palindrome\")\n",
    "    else:\n",
    "        print(\"not a Palindrome\")\n",
    "    "
   ]
  },
  {
   "cell_type": "code",
   "execution_count": 11,
   "id": "09a7ded4",
   "metadata": {},
   "outputs": [
    {
     "name": "stdout",
     "output_type": "stream",
     "text": [
      "Palindrome\n"
     ]
    }
   ],
   "source": [
    "palindrome_check('nan')"
   ]
  },
  {
   "cell_type": "code",
   "execution_count": null,
   "id": "12cffdc2",
   "metadata": {},
   "outputs": [],
   "source": []
  },
  {
   "cell_type": "markdown",
   "id": "09b31b7d",
   "metadata": {},
   "source": [
    "# 8.\tList Rotation:\n",
    "Rotate a list to the right by k steps. For example, `[1, 2, 3, 4, 5]` rotated by 2 becomes `[4, 5, 1, 2, 3]`.\n"
   ]
  },
  {
   "cell_type": "code",
   "execution_count": 21,
   "id": "22e79c8a",
   "metadata": {},
   "outputs": [
    {
     "name": "stdout",
     "output_type": "stream",
     "text": [
      "-2\n",
      "-1\n"
     ]
    },
    {
     "data": {
      "text/plain": [
       "[4, 5, 1, 2, 3]"
      ]
     },
     "execution_count": 21,
     "metadata": {},
     "output_type": "execute_result"
    }
   ],
   "source": [
    "list1=[1, 2, 3, 4, 5]\n",
    "k=2\n",
    "new_list=[]\n",
    "for i in range(-k,0):\n",
    "    new_list.append(list1[i])\n",
    "    \n",
    "for i in range(len(list1)-k):\n",
    "    new_list.append(list1[i])\n",
    "    \n",
    "new_list"
   ]
  },
  {
   "cell_type": "markdown",
   "id": "cbfabb7f",
   "metadata": {},
   "source": [
    "# 9.\tNested Lists:\n",
    "Write a program to flatten a nested list.\n"
   ]
  },
  {
   "cell_type": "code",
   "execution_count": 23,
   "id": "e3387d84",
   "metadata": {},
   "outputs": [
    {
     "data": {
      "text/plain": [
       "[45,\n",
       " 78,\n",
       " 96,\n",
       " 3,\n",
       " 25,\n",
       " 12,\n",
       " 56,\n",
       " 45,\n",
       " 7,\n",
       " 4,\n",
       " 23,\n",
       " 56,\n",
       " 52,\n",
       " 51,\n",
       " 75,\n",
       " 89,\n",
       " 55,\n",
       " 11,\n",
       " 65,\n",
       " 85,\n",
       " 12,\n",
       " 56]"
      ]
     },
     "execution_count": 23,
     "metadata": {},
     "output_type": "execute_result"
    }
   ],
   "source": [
    "flatten_list=[[45,78,96,3,25],[12,56,45,7,4],[23,56,52,51,75,89],[55,11,65,85,12,56]]\n",
    "new_list=[]\n",
    "\n",
    "for i in flatten_list:\n",
    "    new_list.extend(i)\n",
    "    \n",
    "new_list"
   ]
  },
  {
   "cell_type": "code",
   "execution_count": null,
   "id": "e44e46e3",
   "metadata": {},
   "outputs": [],
   "source": []
  },
  {
   "cell_type": "markdown",
   "id": "1be92ba2",
   "metadata": {},
   "source": [
    "# 10.\tLoop Patterns:\n",
    "Print the following pattern using loops:\n",
    "*\n",
    "**\n",
    "***\n",
    "****\n"
   ]
  },
  {
   "cell_type": "code",
   "execution_count": 26,
   "id": "cd8ea2ae",
   "metadata": {},
   "outputs": [
    {
     "name": "stdout",
     "output_type": "stream",
     "text": [
      "*\n",
      "**\n",
      "***\n",
      "****\n"
     ]
    }
   ],
   "source": [
    "n=4\n",
    "for i in range(1,n+1):\n",
    "    print(\"*\"*i)"
   ]
  },
  {
   "cell_type": "code",
   "execution_count": null,
   "id": "ea059cd1",
   "metadata": {},
   "outputs": [],
   "source": []
  },
  {
   "cell_type": "markdown",
   "id": "f0f42838",
   "metadata": {},
   "source": [
    "# 11.\tFactorial Calculation:\n",
    "Write a function to calculate the factorial of a given number using a loop.\n"
   ]
  },
  {
   "cell_type": "code",
   "execution_count": 27,
   "id": "8d794abf",
   "metadata": {},
   "outputs": [
    {
     "name": "stdout",
     "output_type": "stream",
     "text": [
      "120\n"
     ]
    }
   ],
   "source": [
    "num=5\n",
    "fact=1\n",
    "for i in range(1,num+1):\n",
    "    fact=fact*i\n",
    "    \n",
    "print(fact)"
   ]
  },
  {
   "cell_type": "code",
   "execution_count": null,
   "id": "ad3f85e1",
   "metadata": {},
   "outputs": [],
   "source": []
  },
  {
   "cell_type": "markdown",
   "id": "697b6402",
   "metadata": {},
   "source": [
    "# 12.\tFibonacci Sequence:\n",
    "Generate the Fibonacci sequence up to a specified number using a loop.\n"
   ]
  },
  {
   "cell_type": "code",
   "execution_count": 28,
   "id": "ff58e047",
   "metadata": {},
   "outputs": [
    {
     "name": "stdout",
     "output_type": "stream",
     "text": [
      "1\n",
      "2\n",
      "3\n",
      "5\n",
      "8\n",
      "13\n",
      "21\n"
     ]
    }
   ],
   "source": [
    "num=7\n",
    "a=0\n",
    "b=1\n",
    "for i in range(7):\n",
    "    sum=a+b\n",
    "    print(sum)\n",
    "    a=b\n",
    "    b=sum"
   ]
  },
  {
   "cell_type": "code",
   "execution_count": null,
   "id": "15761e5f",
   "metadata": {},
   "outputs": [],
   "source": []
  },
  {
   "cell_type": "markdown",
   "id": "ea738803",
   "metadata": {},
   "source": [
    "# 13.\tPrime Numbers:\n",
    "Write a program to find all prime numbers up to a given limit.\n"
   ]
  },
  {
   "cell_type": "code",
   "execution_count": 29,
   "id": "f94109cf",
   "metadata": {},
   "outputs": [
    {
     "name": "stdout",
     "output_type": "stream",
     "text": [
      "4\n",
      "6\n",
      "8\n",
      "9\n",
      "10\n",
      "12\n",
      "14\n",
      "15\n",
      "16\n",
      "18\n",
      "20\n",
      "21\n",
      "22\n",
      "24\n",
      "25\n",
      "26\n",
      "27\n",
      "28\n",
      "30\n",
      "32\n",
      "33\n",
      "34\n",
      "35\n",
      "36\n",
      "38\n",
      "39\n",
      "40\n",
      "42\n",
      "44\n",
      "45\n",
      "46\n",
      "48\n",
      "49\n",
      "50\n",
      "51\n",
      "52\n",
      "54\n",
      "55\n",
      "56\n",
      "57\n",
      "58\n",
      "60\n",
      "62\n",
      "63\n",
      "64\n",
      "65\n",
      "66\n",
      "68\n",
      "69\n",
      "70\n",
      "72\n",
      "74\n",
      "75\n",
      "76\n",
      "77\n",
      "78\n",
      "80\n",
      "81\n",
      "82\n",
      "84\n",
      "85\n",
      "86\n",
      "87\n",
      "88\n",
      "90\n",
      "91\n",
      "92\n",
      "93\n",
      "94\n",
      "95\n",
      "96\n",
      "98\n",
      "99\n"
     ]
    }
   ],
   "source": [
    "limit=100\n",
    "for i in range(2,100):\n",
    "    m=0\n",
    "    for j in range(1,i):\n",
    "        if i%j==0:\n",
    "            m=m+1\n",
    "            if m==2:\n",
    "        \n",
    "                break"
   ]
  },
  {
   "cell_type": "code",
   "execution_count": null,
   "id": "f91f6da2",
   "metadata": {},
   "outputs": [],
   "source": []
  },
  {
   "cell_type": "markdown",
   "id": "123156d5",
   "metadata": {},
   "source": [
    "# 14.\tList Concatenation:\n",
    "Concatenate two lists without using the `+` operator.\n"
   ]
  },
  {
   "cell_type": "code",
   "execution_count": 4,
   "id": "b7f59e1a",
   "metadata": {},
   "outputs": [
    {
     "data": {
      "text/plain": [
       "[12, 45, 52, 3, 6, 9, 8, 11, 22, 33, 44, 55, 66, 77, 88]"
      ]
     },
     "execution_count": 4,
     "metadata": {},
     "output_type": "execute_result"
    }
   ],
   "source": [
    "list1=[12,45,52,3,6,9,8]\n",
    "list2=[11,22,33,44,55,66,77,88]\n",
    "\n",
    "list1.extend(list2)\n",
    "list1"
   ]
  },
  {
   "cell_type": "code",
   "execution_count": null,
   "id": "760fc6cf",
   "metadata": {},
   "outputs": [],
   "source": []
  },
  {
   "cell_type": "markdown",
   "id": "b8768779",
   "metadata": {},
   "source": [
    "# 15. List Uniqueness:\n",
    "Write a function to remove duplicate elements from a list."
   ]
  },
  {
   "cell_type": "code",
   "execution_count": 6,
   "id": "40d0b0db",
   "metadata": {},
   "outputs": [],
   "source": [
    "def unique_element(l):\n",
    "    new_list=[]\n",
    "    for i in l:\n",
    "        if i not in new_list:\n",
    "            new_list.append(i)\n",
    "            \n",
    "    print(new_list)"
   ]
  },
  {
   "cell_type": "code",
   "execution_count": 7,
   "id": "fed8fcc2",
   "metadata": {},
   "outputs": [
    {
     "name": "stdout",
     "output_type": "stream",
     "text": [
      "[1, 2, 5, 4, 6, 3, 8]\n"
     ]
    }
   ],
   "source": [
    "list=[1,1,2,5,4,2,5,6,3,2,5,8,4,5,1,2,3,5,4,1,2]\n",
    "unique_element(list)"
   ]
  },
  {
   "cell_type": "code",
   "execution_count": null,
   "id": "7c7f1c66",
   "metadata": {},
   "outputs": [],
   "source": []
  },
  {
   "cell_type": "markdown",
   "id": "fc985f76",
   "metadata": {},
   "source": [
    "# 16. List Slicing:\n",
    "Extract even-indexed elements from a list using list slicing"
   ]
  },
  {
   "cell_type": "code",
   "execution_count": 8,
   "id": "4bf28d48",
   "metadata": {},
   "outputs": [
    {
     "data": {
      "text/plain": [
       "[1, 3, 5, 7, 9, 11, 13]"
      ]
     },
     "execution_count": 8,
     "metadata": {},
     "output_type": "execute_result"
    }
   ],
   "source": [
    "list=[1,2,3,4,5,6,7,8,9,10,11,12,13,14]\n",
    "list[::2]"
   ]
  },
  {
   "cell_type": "code",
   "execution_count": null,
   "id": "f7a5f864",
   "metadata": {},
   "outputs": [],
   "source": []
  },
  {
   "cell_type": "markdown",
   "id": "f531b6a5",
   "metadata": {},
   "source": [
    "# 17. List Sorting:\n",
    "Sort a list of strings based on the length of each string."
   ]
  },
  {
   "cell_type": "code",
   "execution_count": 9,
   "id": "1e29a4c6",
   "metadata": {},
   "outputs": [
    {
     "data": {
      "text/plain": [
       "['my', 'is', 'name', 'biswas', 'koushik']"
      ]
     },
     "execution_count": 9,
     "metadata": {},
     "output_type": "execute_result"
    }
   ],
   "source": [
    "list1=[\"my\", \"name\", \"is\", \"koushik\",\"biswas\"]\n",
    "new_list=[]\n",
    "\n",
    "for i in range(100):\n",
    "    for j in list1:\n",
    "        if len(j)==i:\n",
    "            new_list.append(j)\n",
    "            if len(new_list)==len(list1):\n",
    "                break\n",
    "new_list"
   ]
  },
  {
   "cell_type": "code",
   "execution_count": null,
   "id": "559b2993",
   "metadata": {},
   "outputs": [],
   "source": []
  },
  {
   "cell_type": "markdown",
   "id": "1dbaab6b",
   "metadata": {},
   "source": [
    "# 18. Matrix Multiplication:\n",
    "Implement matrix multiplication using nested loops."
   ]
  },
  {
   "cell_type": "code",
   "execution_count": null,
   "id": "5cbe297d",
   "metadata": {},
   "outputs": [],
   "source": [
    "# Example 3x3 matrix\n",
    "A = [\n",
    "    [1, 2, 3],\n",
    "    [4, 5, 6],\n",
    "    [7, 8, 9]\n",
    "]\n",
    "\n",
    "# Example 3x3 matrix\n",
    "B = [\n",
    "    [1, 2, 3],\n",
    "    [4, 5, 6],\n",
    "    [7, 8, 9]\n",
    "]\n",
    "c=[[],[],[]]"
   ]
  },
  {
   "cell_type": "code",
   "execution_count": null,
   "id": "3be96d2f",
   "metadata": {},
   "outputs": [],
   "source": []
  },
  {
   "cell_type": "markdown",
   "id": "b15f9192",
   "metadata": {},
   "source": [
    "# 19. List Frequency:\n",
    "Write a function that returns the frequency of each element in a list"
   ]
  },
  {
   "cell_type": "code",
   "execution_count": 10,
   "id": "530bbd0e",
   "metadata": {},
   "outputs": [],
   "source": [
    "def freq_of_element(list1):\n",
    "    dict={}\n",
    "    set1 = {item for item in list1}\n",
    "    list2=[elem for elem in set1]\n",
    "    for i in list2:\n",
    "        n=0\n",
    "        for j in list1:\n",
    "            if i==j:\n",
    "                n+=1\n",
    "        dict[i]=n\n",
    "        \n",
    "    print(dict)\n",
    "            "
   ]
  },
  {
   "cell_type": "code",
   "execution_count": 11,
   "id": "0ac76b6b",
   "metadata": {},
   "outputs": [
    {
     "name": "stdout",
     "output_type": "stream",
     "text": [
      "{1: 4, 2: 5, 3: 2, 4: 3, 5: 5, 6: 1, 8: 1}\n"
     ]
    }
   ],
   "source": [
    "list=[1,1,2,5,4,2,5,6,3,2,5,8,4,5,1,2,3,5,4,1,2]\n",
    "freq_of_element(list)"
   ]
  },
  {
   "cell_type": "code",
   "execution_count": null,
   "id": "47a4a05a",
   "metadata": {},
   "outputs": [],
   "source": []
  },
  {
   "cell_type": "markdown",
   "id": "94ab2286",
   "metadata": {},
   "source": [
    "# 20. List Median:\n",
    "Calculate the median of a list of numbers."
   ]
  },
  {
   "cell_type": "code",
   "execution_count": 12,
   "id": "d9cd40bd",
   "metadata": {},
   "outputs": [
    {
     "data": {
      "text/plain": [
       "56.0"
      ]
     },
     "execution_count": 12,
     "metadata": {},
     "output_type": "execute_result"
    }
   ],
   "source": [
    "import numpy as np\n",
    "list1=[45,56,12,78,56,23,45,69,85]\n",
    "np.median(list1)"
   ]
  },
  {
   "cell_type": "code",
   "execution_count": null,
   "id": "3fe254e8",
   "metadata": {},
   "outputs": [],
   "source": []
  },
  {
   "cell_type": "code",
   "execution_count": null,
   "id": "00205b8f",
   "metadata": {},
   "outputs": [],
   "source": []
  },
  {
   "cell_type": "code",
   "execution_count": null,
   "id": "3b8ae113",
   "metadata": {},
   "outputs": [],
   "source": []
  }
 ],
 "metadata": {
  "kernelspec": {
   "display_name": "Python 3 (ipykernel)",
   "language": "python",
   "name": "python3"
  },
  "language_info": {
   "codemirror_mode": {
    "name": "ipython",
    "version": 3
   },
   "file_extension": ".py",
   "mimetype": "text/x-python",
   "name": "python",
   "nbconvert_exporter": "python",
   "pygments_lexer": "ipython3",
   "version": "3.11.4"
  }
 },
 "nbformat": 4,
 "nbformat_minor": 5
}
